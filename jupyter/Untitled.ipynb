{
 "cells": [
  {
   "cell_type": "code",
   "execution_count": null,
   "id": "ec07dd0f-0e36-4a1f-a13f-4a4cdbd7723c",
   "metadata": {},
   "outputs": [],
   "source": [
    "import __init__"
   ]
  },
  {
   "cell_type": "code",
   "execution_count": null,
   "id": "7b332af0-8caf-4684-becf-3065621ef7fc",
   "metadata": {},
   "outputs": [],
   "source": [
    "import cv2\n",
    "import os\n",
    "import time\n",
    "\n",
    "import matplotlib.pyplot as plt\n",
    "from faceapi import FaceAPIManager\n",
    "import torch"
   ]
  },
  {
   "cell_type": "code",
   "execution_count": null,
   "id": "b7610097-722d-4f61-8764-b8f429b4b76b",
   "metadata": {},
   "outputs": [],
   "source": []
  },
  {
   "cell_type": "code",
   "execution_count": null,
   "id": "181da4df-eebb-4fba-acf0-03900da2d0fc",
   "metadata": {},
   "outputs": [],
   "source": [
    "face_api_manager = FaceAPIManager(\n",
    "    detector_model_path=r'C:\\Users\\jeffg\\face-project\\face-api\\model_weights\\face-yolov8-m.pt',\n",
    "    encoder_model_path=r'C:\\Users\\jeffg\\face-project\\face-api\\model_weights\\feifei_face.pt',\n",
    "    emotion_model_path=r\"C:\\Users\\jeffg\\face-project\\face-api\\model_weights\\face-emotion.pth\",\n",
    "    device='cuda'\n",
    ")\n",
    "# reid_encoder = FastReIDInterface(\n",
    "#     r'..\\package\\botsort\\fast_reid\\configs\\MOT17\\sbs_S50.yml', \n",
    "#     r'..\\package\\botsort\\reid_model\\mot17_sbs_S50.pth', \n",
    "#     face_api_manager._encoder._devie\n",
    "# )"
   ]
  },
  {
   "cell_type": "code",
   "execution_count": null,
   "id": "1a2f50b1-9820-445a-9eff-04a40cbe2446",
   "metadata": {},
   "outputs": [],
   "source": []
  },
  {
   "cell_type": "code",
   "execution_count": null,
   "id": "52579b41-2318-49a6-a8fd-0e1ffc483ccc",
   "metadata": {},
   "outputs": [],
   "source": []
  },
  {
   "cell_type": "code",
   "execution_count": null,
   "id": "683eda43-96b2-42b8-a944-bb9cbeec35e3",
   "metadata": {
    "scrolled": true
   },
   "outputs": [],
   "source": [
    "# img_file = r'C:/Users/jeffg/face-project/Pytorch_Retinaface/data/FDDB/images/2002/12/10/big/img_410.jpg'\n",
    "# img_file = r'C:\\Users\\jeffg\\ai-data\\face-database\\classify - 複製\\9\\64fc0389b6db50bc1f756e0e-166-4154.png'\n",
    "img_file = r'C:\\Users\\jeffg\\face-project\\face-api\\data\\test.jpg'\n",
    "# img_file = r'C:/Users/jeffg/Desktop/test.jpg'\n",
    "\n",
    "\n",
    "img = cv2.imread(img_file, cv2.IMREAD_COLOR)#[..., ::-1]\n",
    "display_img = img.copy()\n",
    "\n",
    "\n",
    "st = time.time()\n",
    "faces = face_api_manager.handle(img, conf=0.5)\n",
    "for face in faces:\n",
    "    pred_idx = face.embedding.argmax()\n",
    "    pred_prob = face.embedding[pred_idx]\n",
    "    print({\n",
    "       v: k\n",
    "       for k , v in face_api_manager._encoder.class_to_idx.items()\n",
    "    }[pred_idx], pred_prob)\n",
    "    \n",
    "    x1,y1,x2,y2  = face.xyxy  \n",
    "    #reid = reid_encoder.inference(img, np.array(face.xyxy)[None]).ravel()\n",
    "    cv2.putText(display_img, f\"%s\"%(face.emotion), (x1, y1),\n",
    "                cv2.FONT_HERSHEY_DUPLEX, 1, (0, 0, 255))\n",
    "    cv2.rectangle(display_img, ( x1,y1), (x2,y2), (255, 255, 255), 2)\n",
    "    \n",
    "#embeddings = face_embedder.handle(face_img_list)\n",
    "plt.imshow(display_img[..., ::-1])\n",
    "\n",
    "cost = time.time() -st\n",
    "cost"
   ]
  },
  {
   "cell_type": "code",
   "execution_count": null,
   "id": "35c0d8c8-f3b8-408e-9829-fcabe8c6c563",
   "metadata": {},
   "outputs": [],
   "source": []
  },
  {
   "cell_type": "code",
   "execution_count": null,
   "id": "2a8bbdd7-df4f-4041-8cb7-58be8d698593",
   "metadata": {},
   "outputs": [],
   "source": []
  },
  {
   "cell_type": "code",
   "execution_count": null,
   "id": "b08e7b0d-1494-4b95-9671-6217f73bbd81",
   "metadata": {},
   "outputs": [],
   "source": []
  },
  {
   "cell_type": "code",
   "execution_count": null,
   "id": "b515691e-8500-4972-a7d3-c082966f20ee",
   "metadata": {},
   "outputs": [],
   "source": []
  },
  {
   "cell_type": "code",
   "execution_count": null,
   "id": "69a31709-25fa-4c96-8094-4350d111ff0a",
   "metadata": {},
   "outputs": [],
   "source": [
    "faces"
   ]
  },
  {
   "cell_type": "code",
   "execution_count": null,
   "id": "620c34db-bab9-4a08-bce4-845ba8103f49",
   "metadata": {},
   "outputs": [],
   "source": [
    "img = cv2.cvtColor(img, cv2.COLOR_BGR2RGB)\n",
    "face_img_list = []\n",
    "for face in faces:\n",
    "    x1,y1,x2,y2  = face.xyxy\n",
    "    face_img = img[y1:y2,x1:x2,:]\n",
    "    face_img_list.append(face_img)"
   ]
  },
  {
   "cell_type": "code",
   "execution_count": null,
   "id": "9b714e6f-7e00-4d6e-8c35-7798e6fb4361",
   "metadata": {},
   "outputs": [],
   "source": []
  },
  {
   "cell_type": "code",
   "execution_count": null,
   "id": "6f01e3c1-687e-47e2-bd69-24136a44c098",
   "metadata": {},
   "outputs": [],
   "source": [
    "emotion = detector.TorchDetector(model_path = r\"C:\\Users\\jeffg\\face-project\\face-api\\model_weights\\face-emotion.pth\")"
   ]
  },
  {
   "cell_type": "code",
   "execution_count": null,
   "id": "3f1dcbd7-ba68-40ad-a2bc-3fefdca412b7",
   "metadata": {},
   "outputs": [],
   "source": [
    "model_input = emotion.preprocess(face_img_list)"
   ]
  },
  {
   "cell_type": "code",
   "execution_count": null,
   "id": "fd315ca4-b9ca-4050-941a-faa5e533dc3c",
   "metadata": {},
   "outputs": [],
   "source": []
  },
  {
   "cell_type": "code",
   "execution_count": null,
   "id": "f5ba5fc6-8361-40eb-9759-680bfe585efa",
   "metadata": {},
   "outputs": [],
   "source": [
    "with torch.no_grad():\n",
    "    outs, feats, heads = emotion._model(model_input)"
   ]
  },
  {
   "cell_type": "code",
   "execution_count": null,
   "id": "11135489-e65a-47b1-ac3d-311532399fe8",
   "metadata": {},
   "outputs": [],
   "source": []
  },
  {
   "cell_type": "code",
   "execution_count": null,
   "id": "e7f7d281-b957-41d4-8fe3-f6c12a498f1e",
   "metadata": {},
   "outputs": [],
   "source": [
    "labels = ['Surprise', 'Fear', 'Disgust', 'Happy', 'Sad', 'Angry', 'Neutral']  "
   ]
  },
  {
   "cell_type": "code",
   "execution_count": null,
   "id": "4a74b7a6-28bc-4533-9cd2-e9e54d7c9411",
   "metadata": {},
   "outputs": [],
   "source": [
    "predicts = [labels[out.argmax()] for out in outs.cpu().numpy()]"
   ]
  },
  {
   "cell_type": "code",
   "execution_count": null,
   "id": "2fc1e1af-fa17-4395-978d-a61d1bcc1252",
   "metadata": {},
   "outputs": [],
   "source": [
    "predicts"
   ]
  },
  {
   "cell_type": "code",
   "execution_count": null,
   "id": "1a05fac4-a174-438d-b52a-c6ef685d5cbf",
   "metadata": {},
   "outputs": [],
   "source": []
  },
  {
   "cell_type": "code",
   "execution_count": null,
   "id": "047b3424-6754-44c5-a3f5-1b07037dc2b5",
   "metadata": {},
   "outputs": [],
   "source": [
    "face_embeddings = self._model(model_input)[self._model.output(0)]"
   ]
  }
 ],
 "metadata": {
  "kernelspec": {
   "display_name": "Python 3 (ipykernel)",
   "language": "python",
   "name": "python3"
  },
  "language_info": {
   "codemirror_mode": {
    "name": "ipython",
    "version": 3
   },
   "file_extension": ".py",
   "mimetype": "text/x-python",
   "name": "python",
   "nbconvert_exporter": "python",
   "pygments_lexer": "ipython3",
   "version": "3.10.13"
  }
 },
 "nbformat": 4,
 "nbformat_minor": 5
}
