{
 "cells": [
  {
   "cell_type": "code",
   "execution_count": 1,
   "id": "df2fe3aa-65b5-4544-9d40-525b6efaaa0a",
   "metadata": {},
   "outputs": [
    {
     "name": "stderr",
     "output_type": "stream",
     "text": [
      "C:\\Users\\jeffg\\AppData\\Local\\Temp\\ipykernel_25164\\3895938704.py:4: DeprecationWarning: \n",
      "Pyarrow will become a required dependency of pandas in the next major release of pandas (pandas 3.0),\n",
      "(to allow more performant data types, such as the Arrow string type, and better interoperability with other libraries)\n",
      "but was not found to be installed on your system.\n",
      "If this would cause problems for you,\n",
      "please provide us feedback at https://github.com/pandas-dev/pandas/issues/54466\n",
      "        \n",
      "  import pandas as pd\n"
     ]
    }
   ],
   "source": [
    "import os\n",
    "import shutil\n",
    "\n",
    "import pandas as pd\n",
    "from tqdm import tqdm"
   ]
  },
  {
   "cell_type": "code",
   "execution_count": 2,
   "id": "ce5d63e9-1c13-4296-88b2-4293c353d73c",
   "metadata": {},
   "outputs": [],
   "source": [
    "raf_db_image_dir_path = r\"C:\\Users\\jeffg\\face-project\\dataset\\RAF-DB\\basic\\Image\\aligned_224\"\n",
    "raf_db_label_dir_path = r\"C:\\Users\\jeffg\\face-project\\dataset\\RAF-DB\\basic\\EmoLabel\\list_patition_label.txt\""
   ]
  },
  {
   "cell_type": "code",
   "execution_count": 3,
   "id": "73c0c54f-c3fa-4c82-8455-a33b7c4669ee",
   "metadata": {},
   "outputs": [
    {
     "data": {
      "text/plain": [
       "['test_0001.jpg',\n",
       " 'test_0002.jpg',\n",
       " 'test_0003.jpg',\n",
       " 'test_0004.jpg',\n",
       " 'test_0005.jpg',\n",
       " 'test_0006.jpg',\n",
       " 'test_0007.jpg',\n",
       " 'test_0008.jpg',\n",
       " 'test_0009.jpg',\n",
       " 'test_0010.jpg']"
      ]
     },
     "execution_count": 3,
     "metadata": {},
     "output_type": "execute_result"
    }
   ],
   "source": [
    "os.listdir(raf_db_image_dir_path)[:10]"
   ]
  },
  {
   "cell_type": "code",
   "execution_count": 4,
   "id": "5e7f4006-ef87-4231-a876-64dc83e950d5",
   "metadata": {},
   "outputs": [],
   "source": [
    "new_data_path = r\"C:\\Users\\jeffg\\face-project\\emotion\\DDAMFN\"\n",
    "\n",
    "dst_train = os.path.join(new_data_path, \"raf\", \"train\")\n",
    "dst_val = os.path.join(new_data_path, \"raf\", \"val\")\n",
    "\n",
    "os.makedirs(dst_train, exist_ok=True)\n",
    "os.makedirs(dst_val, exist_ok=True)"
   ]
  },
  {
   "cell_type": "code",
   "execution_count": 5,
   "id": "98a36222-8e9f-4967-9e89-32b397bf37d0",
   "metadata": {
    "scrolled": true
   },
   "outputs": [
    {
     "name": "stderr",
     "output_type": "stream",
     "text": [
      "100%|███████████████████████████████████████████████████████████████████████████████████████████████████████████████████████████████████████████████████████████████████████████████████████████████████████████████████████████████████████████████████████████| 15339/15339 [00:23<00:00, 651.91it/s]\n"
     ]
    }
   ],
   "source": [
    "with open(raf_db_label_dir_path, 'r') as reader:\n",
    "    for file_label in tqdm(reader.readlines()):\n",
    "        file_name, label = file_label.split()\n",
    "        data_type = file_name.split(\"_\", maxsplit=1)[0]\n",
    "\n",
    "        if data_type == \"train\":\n",
    "            dst_dir_path = os.path.join(dst_train, label)\n",
    "        elif data_type == \"test\":\n",
    "            dst_dir_path = os.path.join(dst_val, label)\n",
    "        os.makedirs(dst_dir_path, exist_ok=True)\n",
    "        \n",
    "        source_file = os.path.join(raf_db_image_dir_path, file_name)\n",
    "        dst_file = os.path.join(dst_dir_path, file_name)\n",
    "        shutil.copy(source_file, dst_file)\n",
    "            "
   ]
  },
  {
   "cell_type": "code",
   "execution_count": null,
   "id": "8f3b700b-2016-4739-8c81-b9789859939d",
   "metadata": {},
   "outputs": [],
   "source": []
  },
  {
   "cell_type": "code",
   "execution_count": null,
   "id": "cdcfdace-396e-4d84-bf41-7338cbaa8cb6",
   "metadata": {},
   "outputs": [],
   "source": []
  },
  {
   "cell_type": "code",
   "execution_count": null,
   "id": "fb0ad8b8-5da2-4689-bd78-af3a840ce118",
   "metadata": {},
   "outputs": [],
   "source": []
  }
 ],
 "metadata": {
  "kernelspec": {
   "display_name": "Python 3 (ipykernel)",
   "language": "python",
   "name": "python3"
  },
  "language_info": {
   "codemirror_mode": {
    "name": "ipython",
    "version": 3
   },
   "file_extension": ".py",
   "mimetype": "text/x-python",
   "name": "python",
   "nbconvert_exporter": "python",
   "pygments_lexer": "ipython3",
   "version": "3.10.13"
  }
 },
 "nbformat": 4,
 "nbformat_minor": 5
}
